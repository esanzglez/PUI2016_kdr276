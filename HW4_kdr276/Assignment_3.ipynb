{
 "cells": [
  {
   "cell_type": "code",
   "execution_count": 1,
   "metadata": {
    "collapsed": false
   },
   "outputs": [
    {
     "name": "stdout",
     "output_type": "stream",
     "text": [
      "Populating the interactive namespace from numpy and matplotlib\n"
     ]
    }
   ],
   "source": [
    "from __future__ import print_function\n",
    "import os\n",
    "import sys\n",
    "import numpy as np\n",
    "import pylab as pl\n",
    "\n",
    "%pylab inline"
   ]
  },
  {
   "cell_type": "markdown",
   "metadata": {},
   "source": [
    "##  Null Hypothesis: the percent of recidisvism to be conviceted of a felony for former prisioners employed after release is the same or lower for individuals in the control group than those who participated in the program group, significance level p=0.05\n",
    "#### H0: P0 - P1 >= 0\n",
    "#### Ha: P0 - P1 < 0 \n"
   ]
  },
  {
   "cell_type": "code",
   "execution_count": 4,
   "metadata": {
    "collapsed": true
   },
   "outputs": [],
   "source": [
    "alpha = 0.05\n",
    "p1 = 11.7 * 0.01\n",
    "p0 = 10.0 * 0.01\n",
    "n1 = 409\n",
    "n0 = 568\n",
    "\n",
    "Nt_0 = p0 * n0\n",
    "Nt_1 = p1 * n1"
   ]
  },
  {
   "cell_type": "code",
   "execution_count": 5,
   "metadata": {
    "collapsed": false
   },
   "outputs": [
    {
     "name": "stdout",
     "output_type": "stream",
     "text": [
      "0.107116683726\n"
     ]
    }
   ],
   "source": [
    "#define the sample proportion first\n",
    "sp = (p0 * n0 + p1 * n1) / (n1 + n0)\n",
    "print (sp)"
   ]
  },
  {
   "cell_type": "code",
   "execution_count": 6,
   "metadata": {
    "collapsed": true
   },
   "outputs": [],
   "source": [
    "p = lambda p0, p1, n0, n1: (p0 * n0 + p1 * n1) / (n0 + n1)\n",
    "#standard error\n",
    "se = lambda p, n0, n1: np.sqrt(p * (1 - p) * (1.0 / n0 + 1.0 / n1)) "
   ]
  },
  {
   "cell_type": "code",
   "execution_count": 7,
   "metadata": {
    "collapsed": false
   },
   "outputs": [
    {
     "name": "stdout",
     "output_type": "stream",
     "text": [
      "0.84764020522\n"
     ]
    }
   ],
   "source": [
    "zscore = lambda p0, p1, s : (p0 - p1) / s\n",
    "z_2y = zscore(p1, p0, se(p(p0, p1, n0, n1), n0, n1))\n",
    "print (z_2y)\n",
    "\n"
   ]
  },
  {
   "cell_type": "code",
   "execution_count": 30,
   "metadata": {
    "collapsed": false
   },
   "outputs": [
    {
     "name": "stdout",
     "output_type": "stream",
     "text": [
      "is the p value 0.20 smaller than the critical value 0.05?\n",
      "NO!\n",
      "the Null hypothesis is not rejected\n"
     ]
    }
   ],
   "source": [
    "p_2y = 1 - 0.7995 \n",
    "def report_result(p,a):\n",
    "    print ('is the p value ' + \n",
    "           '{0:.2f} smaller than the critical value {1:.2f}?'.format(p,a))\n",
    "    if p < a:\n",
    "        print (\"YES!\")\n",
    "    else: \n",
    "        print (\"NO!\")\n",
    "    \n",
    "    print ('the Null hypothesis is {}'.format(\\\n",
    "                            'rejected' if p < a  else 'not rejected') )\n",
    "\n",
    "    \n",
    "report_result(p_2y, alpha)"
   ]
  },
  {
   "cell_type": "markdown",
   "metadata": {},
   "source": [
    "### In the z test example for ever employed in CEO transitional job, we can reject the null hypotheis because the p value is smaller than the determined critical value of .05\n",
    "\n",
    "### In the z test performed for recidivism data we have failed to reject the null hypotheis because the p value is larger than that cirtical value of .05\n",
    "\n",
    "### For the ever employed in CEO transition job chi -squared example, 3.84 is the threshold value on the chi squared distribution table when alpha is 0.05 and the degrees of freedom is 1. The chi square statistic obtained (436) is much higher than the 3.84 value so we can reject the null hypothesis."
   ]
  },
  {
   "cell_type": "markdown",
   "metadata": {},
   "source": [
    "| convicted of a fellony  | yes  |  no |      \n",
    "|---|---|---|---|\n",
    "|test sample   | .100 * 568  | .900 * 568  | 568  |   \n",
    "| control sample  |.117 * 409   |.883 * 409   | 409  |   \n",
    "|   |   |   |   |   \n",
    "|total | 104.426  |782.347   | 977  | "
   ]
  },
  {
   "cell_type": "code",
   "execution_count": 26,
   "metadata": {
    "collapsed": false
   },
   "outputs": [],
   "source": [
    "def evalChisq(values):\n",
    "    values = np.array(values)\n",
    "    E = np.empty_like(values)\n",
    "    for j in range(len(values[0])):\n",
    "        for i in range(2):\n",
    "            \n",
    "            E[i][j] = ((values[i,:].sum() * values[:,j].sum()) / \n",
    "                        (values).sum())\n",
    "    return ((values - E)**2 / E).sum()"
   ]
  },
  {
   "cell_type": "code",
   "execution_count": 28,
   "metadata": {
    "collapsed": false
   },
   "outputs": [
    {
     "name": "stdout",
     "output_type": "stream",
     "text": [
      "0.727735911272\n"
     ]
    }
   ],
   "source": [
    "sample_values = np.array([[0.100 * 568, 0.900 * 568], [0.117 * 409, 0.882 * 409]])\n",
    "print (evalChisq(sample_values))"
   ]
  },
  {
   "cell_type": "markdown",
   "metadata": {},
   "source": [
    "### degrees of freedom = 1.  Similar to the chi squared first test we would be looking for the value to be 3.84 or higher. Due to the fact that this chi squared statistic of .72 is lower, and actually falls between the thresholds for the probability levels of .5 and .25 we have failed to reject the null hypothesis and cannot say that there is statistical significance between the rate recidivism of the two groups "
   ]
  },
  {
   "cell_type": "code",
   "execution_count": null,
   "metadata": {
    "collapsed": true
   },
   "outputs": [],
   "source": []
  }
 ],
 "metadata": {
  "kernelspec": {
   "display_name": "PUI2016_Python2",
   "language": "python",
   "name": "pui2016_python2"
  },
  "language_info": {
   "codemirror_mode": {
    "name": "ipython",
    "version": 2
   },
   "file_extension": ".py",
   "mimetype": "text/x-python",
   "name": "python",
   "nbconvert_exporter": "python",
   "pygments_lexer": "ipython2",
   "version": "2.7.12"
  }
 },
 "nbformat": 4,
 "nbformat_minor": 0
}
