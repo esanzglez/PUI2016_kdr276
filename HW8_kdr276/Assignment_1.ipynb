{
 "cells": [
  {
   "cell_type": "code",
   "execution_count": 1,
   "metadata": {
    "collapsed": true
   },
   "outputs": [],
   "source": [
    "import os\n",
    "import pandas as pd\n",
    "import numpy as np\n",
    "import re\n",
    "PUIdata = os.getenv('PUIDATA')"
   ]
  },
  {
   "cell_type": "code",
   "execution_count": 3,
   "metadata": {
    "collapsed": false
   },
   "outputs": [],
   "source": [
    "Complaints = pd.read_csv('/projects/open/NYCOpenData/nycopendata/data/erm2-nwe9/1446832678/erm2-nwe9')"
   ]
  },
  {
   "cell_type": "code",
   "execution_count": 4,
   "metadata": {
    "collapsed": false
   },
   "outputs": [
    {
     "data": {
      "text/plain": [
       "Index([u'Unique Key', u'Created Date', u'Closed Date', u'Agency',\n",
       "       u'Agency Name', u'Complaint Type', u'Descriptor', u'Location Type',\n",
       "       u'Incident Zip', u'Incident Address', u'Street Name', u'Cross Street 1',\n",
       "       u'Cross Street 2', u'Intersection Street 1', u'Intersection Street 2',\n",
       "       u'Address Type', u'City', u'Landmark', u'Facility Type', u'Status',\n",
       "       u'Due Date', u'Resolution Description',\n",
       "       u'Resolution Action Updated Date', u'Community Board', u'Borough',\n",
       "       u'X Coordinate (State Plane)', u'Y Coordinate (State Plane)',\n",
       "       u'Park Facility Name', u'Park Borough', u'School Name',\n",
       "       u'School Number', u'School Region', u'School Code',\n",
       "       u'School Phone Number', u'School Address', u'School City',\n",
       "       u'School State', u'School Zip', u'School Not Found',\n",
       "       u'School or Citywide Complaint', u'Vehicle Type',\n",
       "       u'Taxi Company Borough', u'Taxi Pick Up Location',\n",
       "       u'Bridge Highway Name', u'Bridge Highway Direction', u'Road Ramp',\n",
       "       u'Bridge Highway Segment', u'Garage Lot Name', u'Ferry Direction',\n",
       "       u'Ferry Terminal Name', u'Latitude', u'Longitude', u'Location'],\n",
       "      dtype='object')"
      ]
     },
     "execution_count": 4,
     "metadata": {},
     "output_type": "execute_result"
    }
   ],
   "source": [
    "#read columns to determine the data we need and what we can drop\n",
    "Complaints.columns"
   ]
  },
  {
   "cell_type": "code",
   "execution_count": 5,
   "metadata": {
    "collapsed": false
   },
   "outputs": [],
   "source": [
    "#drop columns we do not need\n",
    "Complaints.drop([u'Created Date', u'Closed Date', u'Agency',\n",
    "       u'Agency Name', u'Location Type', u'Incident Address', u'Street Name', u'Cross Street 1',\n",
    "       u'Cross Street 2', u'Intersection Street 1', u'Intersection Street 2',\n",
    "       u'Address Type', u'City', u'Landmark', u'Facility Type', u'Status',\n",
    "       u'Due Date', u'Resolution Description',\n",
    "       u'Resolution Action Updated Date',u'X Coordinate (State Plane)', u'Y Coordinate (State Plane)',\n",
    "       u'Park Facility Name', u'Park Borough', u'School Name',\n",
    "       u'School Number', u'School Region', u'School Code',\n",
    "       u'School Phone Number', u'School Address', u'School City',\n",
    "       u'School State', u'School Zip', u'School Not Found',\n",
    "       u'School or Citywide Complaint', u'Vehicle Type',\n",
    "       u'Taxi Company Borough', u'Taxi Pick Up Location',\n",
    "       u'Bridge Highway Name', u'Bridge Highway Direction', u'Road Ramp',\n",
    "       u'Bridge Highway Segment', u'Garage Lot Name', u'Ferry Direction',\n",
    "       u'Ferry Terminal Name', u'Latitude', u'Longitude', u'Location'], axis=1, inplace=True)"
   ]
  },
  {
   "cell_type": "code",
   "execution_count": 6,
   "metadata": {
    "collapsed": false
   },
   "outputs": [
    {
     "data": {
      "text/html": [
       "<div>\n",
       "<table border=\"1\" class=\"dataframe\">\n",
       "  <thead>\n",
       "    <tr style=\"text-align: right;\">\n",
       "      <th></th>\n",
       "      <th>Unique Key</th>\n",
       "      <th>Complaint Type</th>\n",
       "      <th>Descriptor</th>\n",
       "      <th>Incident Zip</th>\n",
       "      <th>Community Board</th>\n",
       "      <th>Borough</th>\n",
       "    </tr>\n",
       "  </thead>\n",
       "  <tbody>\n",
       "    <tr>\n",
       "      <th>0</th>\n",
       "      <td>31911011</td>\n",
       "      <td>Street Condition</td>\n",
       "      <td>Pothole</td>\n",
       "      <td>11224</td>\n",
       "      <td>13 BROOKLYN</td>\n",
       "      <td>BROOKLYN</td>\n",
       "    </tr>\n",
       "    <tr>\n",
       "      <th>1</th>\n",
       "      <td>31908754</td>\n",
       "      <td>Opinion for the Mayor</td>\n",
       "      <td>HOUSING</td>\n",
       "      <td>NaN</td>\n",
       "      <td>0 Unspecified</td>\n",
       "      <td>Unspecified</td>\n",
       "    </tr>\n",
       "    <tr>\n",
       "      <th>2</th>\n",
       "      <td>31910423</td>\n",
       "      <td>Root/Sewer/Sidewalk Condition</td>\n",
       "      <td>Trees and Sidewalks Program</td>\n",
       "      <td>11234</td>\n",
       "      <td>18 BROOKLYN</td>\n",
       "      <td>BROOKLYN</td>\n",
       "    </tr>\n",
       "    <tr>\n",
       "      <th>3</th>\n",
       "      <td>31909924</td>\n",
       "      <td>Illegal Parking</td>\n",
       "      <td>Blocked Hydrant</td>\n",
       "      <td>11218</td>\n",
       "      <td>12 BROOKLYN</td>\n",
       "      <td>BROOKLYN</td>\n",
       "    </tr>\n",
       "    <tr>\n",
       "      <th>4</th>\n",
       "      <td>31913310</td>\n",
       "      <td>Benefit Card Replacement</td>\n",
       "      <td>Medicaid</td>\n",
       "      <td>NaN</td>\n",
       "      <td>0 Unspecified</td>\n",
       "      <td>Unspecified</td>\n",
       "    </tr>\n",
       "  </tbody>\n",
       "</table>\n",
       "</div>"
      ],
      "text/plain": [
       "   Unique Key                 Complaint Type                   Descriptor  \\\n",
       "0    31911011               Street Condition                      Pothole   \n",
       "1    31908754          Opinion for the Mayor                      HOUSING   \n",
       "2    31910423  Root/Sewer/Sidewalk Condition  Trees and Sidewalks Program   \n",
       "3    31909924                Illegal Parking              Blocked Hydrant   \n",
       "4    31913310       Benefit Card Replacement                     Medicaid   \n",
       "\n",
       "  Incident Zip Community Board      Borough  \n",
       "0        11224     13 BROOKLYN     BROOKLYN  \n",
       "1          NaN   0 Unspecified  Unspecified  \n",
       "2        11234     18 BROOKLYN     BROOKLYN  \n",
       "3        11218     12 BROOKLYN     BROOKLYN  \n",
       "4          NaN   0 Unspecified  Unspecified  "
      ]
     },
     "execution_count": 6,
     "metadata": {},
     "output_type": "execute_result"
    }
   ],
   "source": [
    "Complaints.head()"
   ]
  },
  {
   "cell_type": "code",
   "execution_count": 7,
   "metadata": {
    "collapsed": false
   },
   "outputs": [
    {
     "data": {
      "text/plain": [
       "77"
      ]
     },
     "execution_count": 7,
     "metadata": {},
     "output_type": "execute_result"
    }
   ],
   "source": [
    "#we have 77 unique values, should be only 59 to represent all community boards \n",
    "len(Complaints['Community Board'].unique())"
   ]
  },
  {
   "cell_type": "code",
   "execution_count": 8,
   "metadata": {
    "collapsed": false
   },
   "outputs": [
    {
     "data": {
      "text/plain": [
       "array(['13 BROOKLYN', '0 Unspecified', '18 BROOKLYN', '12 BROOKLYN',\n",
       "       '02 STATEN ISLAND', '08 MANHATTAN', '06 BROOKLYN', '10 BRONX',\n",
       "       '06 MANHATTAN', '04 BROOKLYN', '04 QUEENS', '09 MANHATTAN',\n",
       "       '14 BROOKLYN', '05 MANHATTAN', '02 MANHATTAN', '10 QUEENS',\n",
       "       '07 QUEENS', '02 QUEENS', '11 BROOKLYN', '05 QUEENS', '05 BROOKLYN',\n",
       "       '09 QUEENS', '12 MANHATTAN', '01 BROOKLYN', '11 MANHATTAN',\n",
       "       '03 BRONX', '03 STATEN ISLAND', '08 BROOKLYN', '03 BROOKLYN',\n",
       "       '07 MANHATTAN', '10 MANHATTAN', '04 BRONX', '01 MANHATTAN',\n",
       "       '07 BRONX', '09 BRONX', '03 MANHATTAN', '13 QUEENS', '02 BRONX',\n",
       "       '12 QUEENS', '16 BROOKLYN', '08 QUEENS', '04 MANHATTAN',\n",
       "       '14 QUEENS', '10 BROOKLYN', '11 QUEENS', '06 BRONX', '08 BRONX',\n",
       "       '05 BRONX', '15 BROOKLYN', '02 BROOKLYN', '12 BRONX', '03 QUEENS',\n",
       "       '06 QUEENS', '01 STATEN ISLAND', '01 BRONX', '01 QUEENS',\n",
       "       '17 BROOKLYN', '11 BRONX', 'Unspecified QUEENS', '09 BROOKLYN',\n",
       "       'Unspecified MANHATTAN', 'Unspecified BROOKLYN', '07 BROOKLYN',\n",
       "       'Unspecified BRONX', '64 MANHATTAN', '81 QUEENS', '55 BROOKLYN',\n",
       "       '83 QUEENS', 'Unspecified STATEN ISLAND', '28 BRONX', '80 QUEENS',\n",
       "       '26 BRONX', '95 STATEN ISLAND', '82 QUEENS', '27 BRONX',\n",
       "       '56 BROOKLYN', '84 QUEENS'], dtype=object)"
      ]
     },
     "execution_count": 8,
     "metadata": {},
     "output_type": "execute_result"
    }
   ],
   "source": [
    "#there are 'unspecified' entries as well as entires for community boards that do not exist - \n",
    "#due possibly to a data entry error\n",
    "Complaints['Community Board'].unique()"
   ]
  },
  {
   "cell_type": "code",
   "execution_count": 32,
   "metadata": {
    "collapsed": false
   },
   "outputs": [
    {
     "data": {
      "text/plain": [
       "array(['BROOKLYN', 'Unspecified', 'STATEN ISLAND', 'MANHATTAN', 'BRONX',\n",
       "       'QUEENS'], dtype=object)"
      ]
     },
     "execution_count": 32,
     "metadata": {},
     "output_type": "execute_result"
    }
   ],
   "source": [
    "#there is also one unspecified value within the borough field\n",
    "Complaints['Borough'].unique()"
   ]
  },
  {
   "cell_type": "code",
   "execution_count": 12,
   "metadata": {
    "collapsed": false
   },
   "outputs": [
    {
     "name": "stdout",
     "output_type": "stream",
     "text": [
      "10187766\n"
     ]
    }
   ],
   "source": [
    "#drop duplicate values\n",
    "print (len(Complaints))\n",
    "dropuniquedupes = Complaints.drop_duplicates(['Unique Key'])"
   ]
  },
  {
   "cell_type": "code",
   "execution_count": 11,
   "metadata": {
    "collapsed": false
   },
   "outputs": [
    {
     "data": {
      "text/plain": [
       "10187744"
      ]
     },
     "execution_count": 11,
     "metadata": {},
     "output_type": "execute_result"
    }
   ],
   "source": [
    "len(dropuniquedupes)"
   ]
  },
  {
   "cell_type": "markdown",
   "metadata": {},
   "source": [
    "##### Removed duplicate entries for the 'Unique Key' which represented a number assigned to each call complaint. This removed only 22 entries that could have been data entry error in adding the same complaint information more than once or assigning a previously used unique key identifier for a new call. Removing duplicates from other columns would have certainly removed important data"
   ]
  },
  {
   "cell_type": "code",
   "execution_count": 13,
   "metadata": {
    "collapsed": false
   },
   "outputs": [
    {
     "data": {
      "text/plain": [
       "Unique Key              0\n",
       "Complaint Type          0\n",
       "Descriptor          31057\n",
       "Incident Zip       794159\n",
       "Community Board         0\n",
       "Borough                 0\n",
       "dtype: int64"
      ]
     },
     "execution_count": 13,
     "metadata": {},
     "output_type": "execute_result"
    }
   ],
   "source": [
    "#look for and sum NaN values\n",
    "pd.isnull(dropuniquedupes).sum()"
   ]
  },
  {
   "cell_type": "markdown",
   "metadata": {},
   "source": [
    "##### The missing values that appear are for the descriptor and incident zip fields. This could be a result of not obtaining all of the information from a 311 caller or perhaps calls being ended before the representative can collect all of the information\n",
    "\n",
    "##### I would not recommend using the complaint type field to fill in missing values for the descriptor field because there could be many different types of even/call descriptions under each complaint type. This would skew the results to indicate more types of calls or call descriptions than we can confidently say"
   ]
  },
  {
   "cell_type": "code",
   "execution_count": 36,
   "metadata": {
    "collapsed": false
   },
   "outputs": [],
   "source": [
    "#community districts do not exceed the number 18, those with a higher number, along with those marked as unspecified\n",
    "#would be unplausible. Removing the unspecified values that appeared within the community board and borough fields\n",
    "\n",
    "redact_311 = dropuniquedupes[dropuniquedupes['Community Board'].str.contains('Unspecfied') == False]\n",
    "redact_311 = redact_311[redact_311['Borough'].str.contains('Unspecified') == False]\n",
    "\n"
   ]
  },
  {
   "cell_type": "code",
   "execution_count": 18,
   "metadata": {
    "collapsed": true
   },
   "outputs": [],
   "source": [
    "#open demographics .csv file as a variable called finaldemos\n",
    "finaldemos = pd.read_csv(PUIdata + \"/Final_Demographics.csv\")"
   ]
  },
  {
   "cell_type": "code",
   "execution_count": 20,
   "metadata": {
    "collapsed": false
   },
   "outputs": [
    {
     "data": {
      "text/plain": [
       "Index([u'FIPS', u'cd_id', u'Total Population',\n",
       "       u'Population Density (per sq. mile)', u'% Total Population: Male',\n",
       "       u'% Total Population: 18 to 24 Years',\n",
       "       u'% Total Population: 25 to 34 Years',\n",
       "       u'% Total Population: 35 to 44 Years',\n",
       "       u'% Population 5 Years And Over: Speak Only English',\n",
       "       u'% Population 5 Years And Over: Spanish or Spanish Creole',\n",
       "       ...\n",
       "       u'Employed Civilian Population 16 Years And Over: Production, transportation, and material moving  occupations: Production occupations',\n",
       "       u'Employed Civilian Population 16 Years And Over: Production, transportation, and material moving  occupations: Transportation and material moving occupations',\n",
       "       u'% Employed Civilian Population 16 Years And Over: Management, professional, and related occupations',\n",
       "       u'% Employed Civilian Population 16 Years And Over: Service occupations',\n",
       "       u'% Employed Civilian Population 16 Years And Over: Sales and office occupations',\n",
       "       u'% Employed Civilian Population 16 Years And Over: Farming, fishing, and forestry occupations',\n",
       "       u'% Employed Civilian Population 16 Years And Over: Construction, extraction, and maintenance  occupations',\n",
       "       u'% Employed Civilian Population 16 Years And Over: Production, transportation, and material moving  occupations',\n",
       "       u'% Employed Civilian Population 16 Years And Over: Production, transportation, and material moving  occupations: Production occupations',\n",
       "       u'% Employed Civilian Population 16 Years And Over: Production, transportation, and material moving  occupations: Transportation and material moving occupations'],\n",
       "      dtype='object', length=158)"
      ]
     },
     "execution_count": 20,
     "metadata": {},
     "output_type": "execute_result"
    }
   ],
   "source": [
    "#determine column names, cd_id would stand for community district \n",
    "finaldemos.columns"
   ]
  },
  {
   "cell_type": "code",
   "execution_count": 23,
   "metadata": {
    "collapsed": false
   },
   "outputs": [
    {
     "name": "stdout",
     "output_type": "stream",
     "text": [
      "['BX08' 'BX12' 'BX10' 'BX11' 'BX03' 'BX06' 'BX07' 'BX05' 'BX04' 'BX09'\n",
      " 'BX01' 'BX02' 'MN12' 'MN09' 'MN10' 'MN11111' 'MN08' 'MN07' 'MN05' 'MN04'\n",
      " 'MN06' 'MN03' 'MN01' 'MN02' 'SI03' 'SI02' 'SI01' 'BK01' 'BK04' 'BK03'\n",
      " 'BK02' 'BK06' 'BK08' 'BK16' 'BK05' 'BK18' 'BK17' 'BK09' 'BK07' 'BK10'\n",
      " 'BK12' 'BK14' 'BK15' 'BK11' 'BK13' 'QN01' 'QN03' 'QN07' 'QN11' 'QN13'\n",
      " 'QN08' 'QN04' 'QN06' 'QN02' 'QN05' 'QN09' 'QN12' 'QN10' 'QN14']\n",
      "59\n"
     ]
    }
   ],
   "source": [
    "#determine the community districts that are listed in this column, there are 59\n",
    "print(finaldemos['cd_id'].unique())\n",
    "print (len(finaldemos['cd_id'].unique()))"
   ]
  },
  {
   "cell_type": "code",
   "execution_count": 28,
   "metadata": {
    "collapsed": false
   },
   "outputs": [
    {
     "data": {
      "text/html": [
       "<div>\n",
       "<table border=\"1\" class=\"dataframe\">\n",
       "  <thead>\n",
       "    <tr style=\"text-align: right;\">\n",
       "      <th></th>\n",
       "      <th>cd_id</th>\n",
       "      <th>% Population 5 Years And Over: Speak Only English</th>\n",
       "      <th>% Population 5 Years And Over: Spanish or Spanish Creole</th>\n",
       "    </tr>\n",
       "  </thead>\n",
       "  <tbody>\n",
       "    <tr>\n",
       "      <th>0</th>\n",
       "      <td>BX08</td>\n",
       "      <td>46.80</td>\n",
       "      <td>39.24</td>\n",
       "    </tr>\n",
       "    <tr>\n",
       "      <th>1</th>\n",
       "      <td>BX12</td>\n",
       "      <td>73.09</td>\n",
       "      <td>18.19</td>\n",
       "    </tr>\n",
       "    <tr>\n",
       "      <th>2</th>\n",
       "      <td>BX10</td>\n",
       "      <td>61.79</td>\n",
       "      <td>26.43</td>\n",
       "    </tr>\n",
       "    <tr>\n",
       "      <th>3</th>\n",
       "      <td>BX11</td>\n",
       "      <td>43.22</td>\n",
       "      <td>36.45</td>\n",
       "    </tr>\n",
       "    <tr>\n",
       "      <th>4</th>\n",
       "      <td>BX03</td>\n",
       "      <td>36.82</td>\n",
       "      <td>54.24</td>\n",
       "    </tr>\n",
       "  </tbody>\n",
       "</table>\n",
       "</div>"
      ],
      "text/plain": [
       "  cd_id  % Population 5 Years And Over: Speak Only English  \\\n",
       "0  BX08                                              46.80   \n",
       "1  BX12                                              73.09   \n",
       "2  BX10                                              61.79   \n",
       "3  BX11                                              43.22   \n",
       "4  BX03                                              36.82   \n",
       "\n",
       "   % Population 5 Years And Over: Spanish or Spanish Creole  \n",
       "0                                              39.24         \n",
       "1                                              18.19         \n",
       "2                                              26.43         \n",
       "3                                              36.45         \n",
       "4                                              54.24         "
      ]
     },
     "execution_count": 28,
     "metadata": {},
     "output_type": "execute_result"
    }
   ],
   "source": [
    "#looking at variables to help determine who might be more likely to complain\n",
    "demographcallers = finaldemos[['cd_id', \"% Population 5 Years And Over: Speak Only English\",\n",
    "                               \"% Population 5 Years And Over: Spanish or Spanish Creole\" ]]\n",
    "demographcallers.head()"
   ]
  },
  {
   "cell_type": "markdown",
   "metadata": {},
   "source": [
    "##### Community Districts where a higher percentage of people speak English may be more likely to have people call 311"
   ]
  },
  {
   "cell_type": "code",
   "execution_count": 37,
   "metadata": {
    "collapsed": true
   },
   "outputs": [],
   "source": [
    "#open infrastructure by community board data as a variable called Infrastruct\n",
    "Infrastruct = pd.read_csv(PUIdata + \"/ACS_Computer_Use_and_Internet_2014_1Year_Estimate.csv\")"
   ]
  },
  {
   "cell_type": "code",
   "execution_count": 38,
   "metadata": {
    "collapsed": false
   },
   "outputs": [
    {
     "data": {
      "text/plain": [
       "Index([u'FIPS', u'Geographic Identifier', u'Qualifying Name', u'Households',\n",
       "       u'Households: With An Internet Subscription',\n",
       "       u'Households: Dial-Up Alone', u'Households: Dsl',\n",
       "       u'Households: With Mobile Broadband',\n",
       "       u'Households: Without Mobile Broadband', u'Households: Cable Modem',\n",
       "       u'Households: With Mobile Broadband.1',\n",
       "       u'Households: Without Mobile Broadband.1', u'Households: Fiber-Optic',\n",
       "       u'Households: With Mobile Broadband.2',\n",
       "       u'Households: Without Mobile Broadband.2',\n",
       "       u'Households: Satellite Internet Service',\n",
       "       u'Households: With Mobile Broadband.3',\n",
       "       u'Households: Without Mobile Broadband.3',\n",
       "       u'Households: Two or More Fixed Broadband Types, or Other',\n",
       "       u'Households: With Mobile Broadband.4',\n",
       "       u'Households: Without Mobile Broadband.4',\n",
       "       u'Households: Mobile Broadband Alone or With Dialup',\n",
       "       u'Households: Internet Access Without A Subscription',\n",
       "       u'Households: No Internet Access',\n",
       "       u'% Households: With An Internet Subscription', u'Households.1',\n",
       "       u'Households: Has A Computer',\n",
       "       u'Households: With Dial-Up Internet Subscription Alone',\n",
       "       u'Households: With A Broadband Internet Subscription',\n",
       "       u'Households: Without An Internet Subscription',\n",
       "       u'Households: No Computer'],\n",
       "      dtype='object')"
      ]
     },
     "execution_count": 38,
     "metadata": {},
     "output_type": "execute_result"
    }
   ],
   "source": [
    "#determining column names, not sure if it is geographic identifier or qualifying name, will inspect by .head function\n",
    "Infrastruct.columns"
   ]
  },
  {
   "cell_type": "code",
   "execution_count": 39,
   "metadata": {
    "collapsed": false,
    "scrolled": true
   },
   "outputs": [
    {
     "data": {
      "text/html": [
       "<div>\n",
       "<table border=\"1\" class=\"dataframe\">\n",
       "  <thead>\n",
       "    <tr style=\"text-align: right;\">\n",
       "      <th></th>\n",
       "      <th>FIPS</th>\n",
       "      <th>Geographic Identifier</th>\n",
       "      <th>Qualifying Name</th>\n",
       "      <th>Households</th>\n",
       "      <th>Households: With An Internet Subscription</th>\n",
       "      <th>Households: Dial-Up Alone</th>\n",
       "      <th>Households: Dsl</th>\n",
       "      <th>Households: With Mobile Broadband</th>\n",
       "      <th>Households: Without Mobile Broadband</th>\n",
       "      <th>Households: Cable Modem</th>\n",
       "      <th>...</th>\n",
       "      <th>Households: Mobile Broadband Alone or With Dialup</th>\n",
       "      <th>Households: Internet Access Without A Subscription</th>\n",
       "      <th>Households: No Internet Access</th>\n",
       "      <th>% Households: With An Internet Subscription</th>\n",
       "      <th>Households.1</th>\n",
       "      <th>Households: Has A Computer</th>\n",
       "      <th>Households: With Dial-Up Internet Subscription Alone</th>\n",
       "      <th>Households: With A Broadband Internet Subscription</th>\n",
       "      <th>Households: Without An Internet Subscription</th>\n",
       "      <th>Households: No Computer</th>\n",
       "    </tr>\n",
       "  </thead>\n",
       "  <tbody>\n",
       "    <tr>\n",
       "      <th>0</th>\n",
       "      <td>3603701</td>\n",
       "      <td>79500US3603701</td>\n",
       "      <td>NYC-Bronx Community District 8--Riverdale, New...</td>\n",
       "      <td>42035</td>\n",
       "      <td>31795</td>\n",
       "      <td>444</td>\n",
       "      <td>2813</td>\n",
       "      <td>946</td>\n",
       "      <td>1867</td>\n",
       "      <td>19178</td>\n",
       "      <td>...</td>\n",
       "      <td>2168</td>\n",
       "      <td>2119</td>\n",
       "      <td>8121</td>\n",
       "      <td>75.64</td>\n",
       "      <td>42035</td>\n",
       "      <td>35048</td>\n",
       "      <td>404</td>\n",
       "      <td>30943</td>\n",
       "      <td>3701</td>\n",
       "      <td>6987</td>\n",
       "    </tr>\n",
       "    <tr>\n",
       "      <th>1</th>\n",
       "      <td>3603702</td>\n",
       "      <td>79500US3603702</td>\n",
       "      <td>NYC-Bronx Community District 12--Wakefield, Ne...</td>\n",
       "      <td>44830</td>\n",
       "      <td>32243</td>\n",
       "      <td>178</td>\n",
       "      <td>849</td>\n",
       "      <td>405</td>\n",
       "      <td>444</td>\n",
       "      <td>18653</td>\n",
       "      <td>...</td>\n",
       "      <td>928</td>\n",
       "      <td>1891</td>\n",
       "      <td>10696</td>\n",
       "      <td>71.92</td>\n",
       "      <td>44830</td>\n",
       "      <td>36700</td>\n",
       "      <td>178</td>\n",
       "      <td>31435</td>\n",
       "      <td>5087</td>\n",
       "      <td>8130</td>\n",
       "    </tr>\n",
       "    <tr>\n",
       "      <th>2</th>\n",
       "      <td>3603703</td>\n",
       "      <td>79500US3603703</td>\n",
       "      <td>NYC-Bronx Community District 10--Co-op City, N...</td>\n",
       "      <td>47050</td>\n",
       "      <td>32729</td>\n",
       "      <td>158</td>\n",
       "      <td>1863</td>\n",
       "      <td>398</td>\n",
       "      <td>1465</td>\n",
       "      <td>20044</td>\n",
       "      <td>...</td>\n",
       "      <td>639</td>\n",
       "      <td>2882</td>\n",
       "      <td>11439</td>\n",
       "      <td>69.56</td>\n",
       "      <td>47050</td>\n",
       "      <td>38700</td>\n",
       "      <td>158</td>\n",
       "      <td>32333</td>\n",
       "      <td>6209</td>\n",
       "      <td>8350</td>\n",
       "    </tr>\n",
       "    <tr>\n",
       "      <th>3</th>\n",
       "      <td>3603704</td>\n",
       "      <td>79500US3603704</td>\n",
       "      <td>NYC-Bronx Community District 11--Pelham Parkwa...</td>\n",
       "      <td>44922</td>\n",
       "      <td>32003</td>\n",
       "      <td>141</td>\n",
       "      <td>1478</td>\n",
       "      <td>474</td>\n",
       "      <td>1004</td>\n",
       "      <td>17917</td>\n",
       "      <td>...</td>\n",
       "      <td>1001</td>\n",
       "      <td>2722</td>\n",
       "      <td>10197</td>\n",
       "      <td>71.24</td>\n",
       "      <td>44922</td>\n",
       "      <td>37237</td>\n",
       "      <td>122</td>\n",
       "      <td>31278</td>\n",
       "      <td>5837</td>\n",
       "      <td>7685</td>\n",
       "    </tr>\n",
       "    <tr>\n",
       "      <th>4</th>\n",
       "      <td>3603705</td>\n",
       "      <td>79500US3603705</td>\n",
       "      <td>NYC-Bronx Community District 3 &amp; 6--Belmont, N...</td>\n",
       "      <td>57556</td>\n",
       "      <td>35503</td>\n",
       "      <td>88</td>\n",
       "      <td>1297</td>\n",
       "      <td>651</td>\n",
       "      <td>646</td>\n",
       "      <td>15847</td>\n",
       "      <td>...</td>\n",
       "      <td>1385</td>\n",
       "      <td>3312</td>\n",
       "      <td>18741</td>\n",
       "      <td>61.68</td>\n",
       "      <td>57556</td>\n",
       "      <td>42576</td>\n",
       "      <td>88</td>\n",
       "      <td>33408</td>\n",
       "      <td>9080</td>\n",
       "      <td>14980</td>\n",
       "    </tr>\n",
       "  </tbody>\n",
       "</table>\n",
       "<p>5 rows × 31 columns</p>\n",
       "</div>"
      ],
      "text/plain": [
       "      FIPS Geographic Identifier  \\\n",
       "0  3603701        79500US3603701   \n",
       "1  3603702        79500US3603702   \n",
       "2  3603703        79500US3603703   \n",
       "3  3603704        79500US3603704   \n",
       "4  3603705        79500US3603705   \n",
       "\n",
       "                                     Qualifying Name  Households  \\\n",
       "0  NYC-Bronx Community District 8--Riverdale, New...       42035   \n",
       "1  NYC-Bronx Community District 12--Wakefield, Ne...       44830   \n",
       "2  NYC-Bronx Community District 10--Co-op City, N...       47050   \n",
       "3  NYC-Bronx Community District 11--Pelham Parkwa...       44922   \n",
       "4  NYC-Bronx Community District 3 & 6--Belmont, N...       57556   \n",
       "\n",
       "   Households: With An Internet Subscription  Households: Dial-Up Alone  \\\n",
       "0                                      31795                        444   \n",
       "1                                      32243                        178   \n",
       "2                                      32729                        158   \n",
       "3                                      32003                        141   \n",
       "4                                      35503                         88   \n",
       "\n",
       "   Households: Dsl  Households: With Mobile Broadband  \\\n",
       "0             2813                                946   \n",
       "1              849                                405   \n",
       "2             1863                                398   \n",
       "3             1478                                474   \n",
       "4             1297                                651   \n",
       "\n",
       "   Households: Without Mobile Broadband  Households: Cable Modem  \\\n",
       "0                                  1867                    19178   \n",
       "1                                   444                    18653   \n",
       "2                                  1465                    20044   \n",
       "3                                  1004                    17917   \n",
       "4                                   646                    15847   \n",
       "\n",
       "            ...             Households: Mobile Broadband Alone or With Dialup  \\\n",
       "0           ...                                                          2168   \n",
       "1           ...                                                           928   \n",
       "2           ...                                                           639   \n",
       "3           ...                                                          1001   \n",
       "4           ...                                                          1385   \n",
       "\n",
       "   Households: Internet Access Without A Subscription  \\\n",
       "0                                               2119    \n",
       "1                                               1891    \n",
       "2                                               2882    \n",
       "3                                               2722    \n",
       "4                                               3312    \n",
       "\n",
       "   Households: No Internet Access  \\\n",
       "0                            8121   \n",
       "1                           10696   \n",
       "2                           11439   \n",
       "3                           10197   \n",
       "4                           18741   \n",
       "\n",
       "   % Households: With An Internet Subscription  Households.1  \\\n",
       "0                                        75.64         42035   \n",
       "1                                        71.92         44830   \n",
       "2                                        69.56         47050   \n",
       "3                                        71.24         44922   \n",
       "4                                        61.68         57556   \n",
       "\n",
       "   Households: Has A Computer  \\\n",
       "0                       35048   \n",
       "1                       36700   \n",
       "2                       38700   \n",
       "3                       37237   \n",
       "4                       42576   \n",
       "\n",
       "   Households: With Dial-Up Internet Subscription Alone  \\\n",
       "0                                                404      \n",
       "1                                                178      \n",
       "2                                                158      \n",
       "3                                                122      \n",
       "4                                                 88      \n",
       "\n",
       "   Households: With A Broadband Internet Subscription  \\\n",
       "0                                              30943    \n",
       "1                                              31435    \n",
       "2                                              32333    \n",
       "3                                              31278    \n",
       "4                                              33408    \n",
       "\n",
       "   Households: Without An Internet Subscription  Households: No Computer  \n",
       "0                                          3701                     6987  \n",
       "1                                          5087                     8130  \n",
       "2                                          6209                     8350  \n",
       "3                                          5837                     7685  \n",
       "4                                          9080                    14980  \n",
       "\n",
       "[5 rows x 31 columns]"
      ]
     },
     "execution_count": 39,
     "metadata": {},
     "output_type": "execute_result"
    }
   ],
   "source": [
    "#quailfying name represents community district\n",
    "Infrastruct.head()"
   ]
  },
  {
   "cell_type": "code",
   "execution_count": 42,
   "metadata": {
    "collapsed": false,
    "scrolled": true
   },
   "outputs": [
    {
     "name": "stdout",
     "output_type": "stream",
     "text": [
      "['NYC-Bronx Community District 8--Riverdale, New York'\n",
      " 'NYC-Bronx Community District 12--Wakefield, New York'\n",
      " 'NYC-Bronx Community District 10--Co-op City, New York'\n",
      " 'NYC-Bronx Community District 11--Pelham Parkway, New York'\n",
      " 'NYC-Bronx Community District 3 & 6--Belmont, New York'\n",
      " 'NYC-Bronx Community District 7--Bedford Park, New York'\n",
      " 'NYC-Bronx Community District 5--Morris Heights, New York'\n",
      " 'NYC-Bronx Community District 4--Concourse, New York'\n",
      " 'NYC-Bronx Community District 9--Castle Hill, New York'\n",
      " 'NYC-Bronx Community District 1 & 2--Hunts Point, New York'\n",
      " 'NYC-Manhattan Community District 12--Washington Heights, New York'\n",
      " 'NYC-Manhattan Community District 9--Hamilton Heights, New York'\n",
      " 'NYC-Manhattan Community District 10--Central Harlem PUMA, New York'\n",
      " 'NYC-Manhattan Community District 11--East Harlem PUMA, New York'\n",
      " 'NYC-Manhattan Community District 8--Upper East Side PUMA, New York'\n",
      " 'NYC-Manhattan Community District 7--Upper West Side & West Side PUMA, New York'\n",
      " 'NYC-Manhattan Community District 4 & 5--Chelsea, New York'\n",
      " 'NYC-Manhattan Community District 6--Murray Hill, New York'\n",
      " 'NYC-Manhattan Community District 3--Chinatown & Lower East Side PUMA, New York'\n",
      " 'NYC-Manhattan Community District 1 & 2--Battery Park City, New York'\n",
      " 'NYC-Staten Island Community District 3--Tottenville, New York'\n",
      " 'NYC-Staten Island Community District 2--New Springville & South Beach PUMA, New York'\n",
      " 'NYC-Staten Island Community District 1--Port Richmond, New York'\n",
      " 'NYC-Brooklyn Community District 1--Greenpoint & Williamsburg PUMA, New York'\n",
      " 'NYC-Brooklyn Community District 4--Bushwick PUMA, New York'\n",
      " 'NYC-Brooklyn Community District 3--Bedford-Stuyvesant PUMA, New York'\n",
      " 'NYC-Brooklyn Community District 2--Brooklyn Heights & Fort Greene PUMA, New York'\n",
      " 'NYC-Brooklyn Community District 6--Park Slope, New York'\n",
      " 'NYC-Brooklyn Community District 8--Crown Heights North & Prospect Heights PUMA, New York'\n",
      " 'NYC-Brooklyn Community District 16--Brownsville & Ocean Hill PUMA, New York'\n",
      " 'NYC-Brooklyn Community District 5--East New York & Starrett City PUMA, New York'\n",
      " 'NYC-Brooklyn Community District 18--Canarsie & Flatlands PUMA, New York'\n",
      " 'NYC-Brooklyn Community District 17--East Flatbush, New York'\n",
      " 'NYC-Brooklyn Community District 9--Crown Heights South, New York'\n",
      " 'NYC-Brooklyn Community District 7--Sunset Park & Windsor Terrace PUMA, New York'\n",
      " 'NYC-Brooklyn Community District 10--Bay Ridge & Dyker Heights PUMA, New York'\n",
      " 'NYC-Brooklyn Community District 12--Borough Park, New York'\n",
      " 'NYC-Brooklyn Community District 14--Flatbush & Midwood PUMA, New York'\n",
      " 'NYC-Brooklyn Community District 15--Sheepshead Bay, New York'\n",
      " 'NYC-Brooklyn Community District 11--Bensonhurst & Bath Beach PUMA, New York'\n",
      " 'NYC-Brooklyn Community District 13--Brighton Beach & Coney Island PUMA, New York'\n",
      " 'NYC-Queens Community District 1--Astoria & Long Island City PUMA, New York'\n",
      " 'NYC-Queens Community District 3--Jackson Heights & North Corona PUMA, New York'\n",
      " 'NYC-Queens Community District 7--Flushing, New York'\n",
      " 'NYC-Queens Community District 11--Bayside, New York'\n",
      " 'NYC-Queens Community District 13--Queens Village, New York'\n",
      " 'NYC-Queens Community District 8--Briarwood, New York'\n",
      " 'NYC-Queens Community District 4--Elmhurst & South Corona PUMA, New York'\n",
      " 'NYC-Queens Community District 6--Forest Hills & Rego Park PUMA, New York'\n",
      " 'NYC-Queens Community District 2--Sunnyside & Woodside PUMA, New York'\n",
      " 'NYC-Queens Community District 5--Ridgewood, New York'\n",
      " 'NYC-Queens Community District 9--Richmond Hill & Woodhaven PUMA, New York'\n",
      " 'NYC-Queens Community District 12--Jamaica, New York'\n",
      " 'NYC-Queens Community District 10--Howard Beach & Ozone Park PUMA, New York'\n",
      " 'NYC-Queens Community District 14--Far Rockaway, New York']\n",
      "55\n"
     ]
    }
   ],
   "source": [
    "#determine the community districts that are listed in this column, there are 55\n",
    "print(Infrastruct['Qualifying Name'].unique())\n",
    "print (len(Infrastruct['Qualifying Name'].unique()))"
   ]
  },
  {
   "cell_type": "code",
   "execution_count": 45,
   "metadata": {
    "collapsed": false,
    "scrolled": true
   },
   "outputs": [
    {
     "data": {
      "text/html": [
       "<div>\n",
       "<table border=\"1\" class=\"dataframe\">\n",
       "  <thead>\n",
       "    <tr style=\"text-align: right;\">\n",
       "      <th></th>\n",
       "      <th>Qualifying Name</th>\n",
       "      <th>Households: With Mobile Broadband</th>\n",
       "      <th>Households: Without Mobile Broadband</th>\n",
       "      <th>Households: With Mobile Broadband.1</th>\n",
       "      <th>Households: With Mobile Broadband.2</th>\n",
       "      <th>Households: With Mobile Broadband.3</th>\n",
       "      <th>Households: With Mobile Broadband.4</th>\n",
       "    </tr>\n",
       "  </thead>\n",
       "  <tbody>\n",
       "    <tr>\n",
       "      <th>0</th>\n",
       "      <td>NYC-Bronx Community District 8--Riverdale, New...</td>\n",
       "      <td>946</td>\n",
       "      <td>1867</td>\n",
       "      <td>10433</td>\n",
       "      <td>433</td>\n",
       "      <td>37</td>\n",
       "      <td>3510</td>\n",
       "    </tr>\n",
       "    <tr>\n",
       "      <th>1</th>\n",
       "      <td>NYC-Bronx Community District 12--Wakefield, Ne...</td>\n",
       "      <td>405</td>\n",
       "      <td>444</td>\n",
       "      <td>5577</td>\n",
       "      <td>2358</td>\n",
       "      <td>0</td>\n",
       "      <td>2146</td>\n",
       "    </tr>\n",
       "    <tr>\n",
       "      <th>2</th>\n",
       "      <td>NYC-Bronx Community District 10--Co-op City, N...</td>\n",
       "      <td>398</td>\n",
       "      <td>1465</td>\n",
       "      <td>6377</td>\n",
       "      <td>1200</td>\n",
       "      <td>0</td>\n",
       "      <td>3450</td>\n",
       "    </tr>\n",
       "    <tr>\n",
       "      <th>3</th>\n",
       "      <td>NYC-Bronx Community District 11--Pelham Parkwa...</td>\n",
       "      <td>474</td>\n",
       "      <td>1004</td>\n",
       "      <td>5624</td>\n",
       "      <td>2272</td>\n",
       "      <td>241</td>\n",
       "      <td>2137</td>\n",
       "    </tr>\n",
       "    <tr>\n",
       "      <th>4</th>\n",
       "      <td>NYC-Bronx Community District 3 &amp; 6--Belmont, N...</td>\n",
       "      <td>651</td>\n",
       "      <td>646</td>\n",
       "      <td>6690</td>\n",
       "      <td>695</td>\n",
       "      <td>111</td>\n",
       "      <td>6760</td>\n",
       "    </tr>\n",
       "  </tbody>\n",
       "</table>\n",
       "</div>"
      ],
      "text/plain": [
       "                                     Qualifying Name  \\\n",
       "0  NYC-Bronx Community District 8--Riverdale, New...   \n",
       "1  NYC-Bronx Community District 12--Wakefield, Ne...   \n",
       "2  NYC-Bronx Community District 10--Co-op City, N...   \n",
       "3  NYC-Bronx Community District 11--Pelham Parkwa...   \n",
       "4  NYC-Bronx Community District 3 & 6--Belmont, N...   \n",
       "\n",
       "   Households: With Mobile Broadband  Households: Without Mobile Broadband  \\\n",
       "0                                946                                  1867   \n",
       "1                                405                                   444   \n",
       "2                                398                                  1465   \n",
       "3                                474                                  1004   \n",
       "4                                651                                   646   \n",
       "\n",
       "   Households: With Mobile Broadband.1  Households: With Mobile Broadband.2  \\\n",
       "0                                10433                                  433   \n",
       "1                                 5577                                 2358   \n",
       "2                                 6377                                 1200   \n",
       "3                                 5624                                 2272   \n",
       "4                                 6690                                  695   \n",
       "\n",
       "   Households: With Mobile Broadband.3  Households: With Mobile Broadband.4  \n",
       "0                                   37                                 3510  \n",
       "1                                    0                                 2146  \n",
       "2                                    0                                 3450  \n",
       "3                                  241                                 2137  \n",
       "4                                  111                                 6760  "
      ]
     },
     "execution_count": 45,
     "metadata": {},
     "output_type": "execute_result"
    }
   ],
   "source": [
    "#looking at variables to help determine information on internet/broadband useage by Community District\n",
    "Infrastructinfo = Infrastruct[['Qualifying Name', 'Households: With Mobile Broadband',\n",
    "                               'Households: Without Mobile Broadband', 'Households: With Mobile Broadband.1',\n",
    "                               'Households: With Mobile Broadband.2', 'Households: With Mobile Broadband.3', \n",
    "                              'Households: With Mobile Broadband.4']]\n",
    "Infrastructinfo.head()"
   ]
  },
  {
   "cell_type": "code",
   "execution_count": null,
   "metadata": {
    "collapsed": true
   },
   "outputs": [],
   "source": [
    "# what is low and high internet connections"
   ]
  },
  {
   "cell_type": "code",
   "execution_count": null,
   "metadata": {
    "collapsed": true
   },
   "outputs": [],
   "source": []
  },
  {
   "cell_type": "code",
   "execution_count": null,
   "metadata": {
    "collapsed": true
   },
   "outputs": [],
   "source": []
  }
 ],
 "metadata": {
  "kernelspec": {
   "display_name": "PUI2016_Python2",
   "language": "python",
   "name": "pui2016_python2"
  },
  "language_info": {
   "codemirror_mode": {
    "name": "ipython",
    "version": 2
   },
   "file_extension": ".py",
   "mimetype": "text/x-python",
   "name": "python",
   "nbconvert_exporter": "python",
   "pygments_lexer": "ipython2",
   "version": "2.7.12"
  }
 },
 "nbformat": 4,
 "nbformat_minor": 0
}
