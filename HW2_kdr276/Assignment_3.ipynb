{
 "cells": [
  {
   "cell_type": "code",
   "execution_count": 1,
   "metadata": {
    "collapsed": false
   },
   "outputs": [
    {
     "name": "stdout",
     "output_type": "stream",
     "text": [
      "Populating the interactive namespace from numpy and matplotlib\n"
     ]
    }
   ],
   "source": [
    "from __future__ import print_function\n",
    "import os\n",
    "import numpy as np\n",
    "import pandas as pd\n",
    "#import seaborn\n",
    "import pylab as pl\n",
    "\n",
    "%pylab inline"
   ]
  },
  {
   "cell_type": "code",
   "execution_count": 2,
   "metadata": {
    "collapsed": false
   },
   "outputs": [
    {
     "data": {
      "text/plain": [
       "'/gws/open/NYCOpenData/nycopendata/data'"
      ]
     },
     "execution_count": 2,
     "metadata": {},
     "output_type": "execute_result"
    }
   ],
   "source": [
    "os.getenv('DFDATA')"
   ]
  },
  {
   "cell_type": "code",
   "execution_count": 3,
   "metadata": {
    "collapsed": true
   },
   "outputs": [],
   "source": [
    "DFDATA = os.getenv('DFDATA')"
   ]
  },
  {
   "cell_type": "code",
   "execution_count": 4,
   "metadata": {
    "collapsed": false,
    "scrolled": true
   },
   "outputs": [
    {
     "data": {
      "text/plain": [
       "Index([u'District', u'Material', u'Primary Disposal Facility', u'Location',\n",
       "       u'X Coordinate', u'Y Coordinate'],\n",
       "      dtype='object')"
      ]
     },
     "execution_count": 4,
     "metadata": {},
     "output_type": "execute_result"
    }
   ],
   "source": [
    "df1 = pd.read_csv(DFDATA + \"/kzmz-ivhb/1414245874/kzmz-ivhb\")\n",
    "df1.columns"
   ]
  },
  {
   "cell_type": "code",
   "execution_count": 5,
   "metadata": {
    "collapsed": false
   },
   "outputs": [
    {
     "data": {
      "text/html": [
       "<div>\n",
       "<table border=\"1\" class=\"dataframe\">\n",
       "  <thead>\n",
       "    <tr style=\"text-align: right;\">\n",
       "      <th></th>\n",
       "      <th>District</th>\n",
       "      <th>Material</th>\n",
       "      <th>Primary Disposal Facility</th>\n",
       "      <th>Location</th>\n",
       "      <th>X Coordinate</th>\n",
       "      <th>Y Coordinate</th>\n",
       "    </tr>\n",
       "  </thead>\n",
       "  <tbody>\n",
       "    <tr>\n",
       "      <th>0</th>\n",
       "      <td>MN01</td>\n",
       "      <td>Refuse</td>\n",
       "      <td>Covanta - Essex</td>\n",
       "      <td>183 Raymond Blvd Newark, NJ</td>\n",
       "      <td>949181.6</td>\n",
       "      <td>208290.4</td>\n",
       "    </tr>\n",
       "    <tr>\n",
       "      <th>1</th>\n",
       "      <td>MN02</td>\n",
       "      <td>Refuse</td>\n",
       "      <td>Covanta - Essex</td>\n",
       "      <td>183 Raymond Blvd Newark, NJ</td>\n",
       "      <td>949181.6</td>\n",
       "      <td>208290.4</td>\n",
       "    </tr>\n",
       "    <tr>\n",
       "      <th>2</th>\n",
       "      <td>MN03</td>\n",
       "      <td>Refuse</td>\n",
       "      <td>Covanta - Essex</td>\n",
       "      <td>183 Raymond Blvd Newark, NJ</td>\n",
       "      <td>949181.6</td>\n",
       "      <td>208290.4</td>\n",
       "    </tr>\n",
       "    <tr>\n",
       "      <th>3</th>\n",
       "      <td>MN04</td>\n",
       "      <td>Refuse</td>\n",
       "      <td>WM - Julia</td>\n",
       "      <td>864 Julia St Elizabeth, NJ</td>\n",
       "      <td>929373.8</td>\n",
       "      <td>182952.1</td>\n",
       "    </tr>\n",
       "    <tr>\n",
       "      <th>4</th>\n",
       "      <td>MN05</td>\n",
       "      <td>Refuse</td>\n",
       "      <td>Covanta - Essex</td>\n",
       "      <td>183 Raymond Blvd Newark, NJ</td>\n",
       "      <td>949181.6</td>\n",
       "      <td>208290.4</td>\n",
       "    </tr>\n",
       "  </tbody>\n",
       "</table>\n",
       "</div>"
      ],
      "text/plain": [
       "  District Material Primary Disposal Facility                     Location  \\\n",
       "0     MN01   Refuse           Covanta - Essex  183 Raymond Blvd Newark, NJ   \n",
       "1     MN02   Refuse           Covanta - Essex  183 Raymond Blvd Newark, NJ   \n",
       "2     MN03   Refuse           Covanta - Essex  183 Raymond Blvd Newark, NJ   \n",
       "3     MN04   Refuse                WM - Julia   864 Julia St Elizabeth, NJ   \n",
       "4     MN05   Refuse           Covanta - Essex  183 Raymond Blvd Newark, NJ   \n",
       "\n",
       "   X Coordinate  Y Coordinate  \n",
       "0      949181.6      208290.4  \n",
       "1      949181.6      208290.4  \n",
       "2      949181.6      208290.4  \n",
       "3      929373.8      182952.1  \n",
       "4      949181.6      208290.4  "
      ]
     },
     "execution_count": 5,
     "metadata": {},
     "output_type": "execute_result"
    }
   ],
   "source": [
    "df1.head()"
   ]
  },
  {
   "cell_type": "code",
   "execution_count": 6,
   "metadata": {
    "collapsed": false,
    "scrolled": true
   },
   "outputs": [
    {
     "data": {
      "text/html": [
       "<div>\n",
       "<table border=\"1\" class=\"dataframe\">\n",
       "  <thead>\n",
       "    <tr style=\"text-align: right;\">\n",
       "      <th></th>\n",
       "      <th>X Coordinate</th>\n",
       "      <th>Y Coordinate</th>\n",
       "    </tr>\n",
       "  </thead>\n",
       "  <tbody>\n",
       "    <tr>\n",
       "      <th>0</th>\n",
       "      <td>949181.6</td>\n",
       "      <td>208290.4</td>\n",
       "    </tr>\n",
       "    <tr>\n",
       "      <th>1</th>\n",
       "      <td>949181.6</td>\n",
       "      <td>208290.4</td>\n",
       "    </tr>\n",
       "    <tr>\n",
       "      <th>2</th>\n",
       "      <td>949181.6</td>\n",
       "      <td>208290.4</td>\n",
       "    </tr>\n",
       "    <tr>\n",
       "      <th>3</th>\n",
       "      <td>929373.8</td>\n",
       "      <td>182952.1</td>\n",
       "    </tr>\n",
       "    <tr>\n",
       "      <th>4</th>\n",
       "      <td>949181.6</td>\n",
       "      <td>208290.4</td>\n",
       "    </tr>\n",
       "  </tbody>\n",
       "</table>\n",
       "</div>"
      ],
      "text/plain": [
       "   X Coordinate  Y Coordinate\n",
       "0      949181.6      208290.4\n",
       "1      949181.6      208290.4\n",
       "2      949181.6      208290.4\n",
       "3      929373.8      182952.1\n",
       "4      949181.6      208290.4"
      ]
     },
     "execution_count": 6,
     "metadata": {},
     "output_type": "execute_result"
    }
   ],
   "source": [
    "df2 = df1.drop([u'District', u'Material', u'Primary Disposal Facility', u'Location'], axis = 1)\n",
    "df2.head()"
   ]
  },
  {
   "cell_type": "code",
   "execution_count": 7,
   "metadata": {
    "collapsed": false,
    "scrolled": true
   },
   "outputs": [
    {
     "data": {
      "text/plain": [
       "<matplotlib.text.Text at 0x7f4274184cd0>"
      ]
     },
     "execution_count": 7,
     "metadata": {},
     "output_type": "execute_result"
    },
    {
     "data": {
      "image/png": "[encoded data removed]",
      "text/plain": [
       "<matplotlib.figure.Figure at 0x7f4274459b90>"
      ]
     },
     "metadata": {},
     "output_type": "display_data"
    }
   ],
   "source": [
    "ax = df2.plot.scatter(x='X Coordinate', y='Y Coordinate', label='Locations',alpha=0.2)\n",
    "ax.set_title(\"DSNY Refuse and Recycling Disposal Locations\")"
   ]
  },
  {
   "cell_type": "markdown",
   "metadata": {},
   "source": [
    "### Figure 1:\n",
    "\n",
    "DSNY Refuse and Recycling Disposal Locations mapped by Geographical Coordinates (Long and Lat)"
   ]
  },
  {
   "cell_type": "code",
   "execution_count": null,
   "metadata": {
    "collapsed": true
   },
   "outputs": [],
   "source": []
  }
 ],
 "metadata": {
  "kernelspec": {
   "display_name": "PUI2016_Python2",
   "language": "python",
   "name": "pui2016_python2"
  },
  "language_info": {
   "codemirror_mode": {
    "name": "ipython",
    "version": 2
   },
   "file_extension": ".py",
   "mimetype": "text/x-python",
   "name": "python",
   "nbconvert_exporter": "python",
   "pygments_lexer": "ipython2",
   "version": "2.7.12"
  }
 },
 "nbformat": 4,
 "nbformat_minor": 0
}
